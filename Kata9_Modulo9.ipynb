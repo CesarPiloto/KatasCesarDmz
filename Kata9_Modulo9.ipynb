{
 "cells": [
  {
   "cell_type": "markdown",
   "metadata": {},
   "source": [
    "## Kata 9 - Funciones"
   ]
  },
  {
   "cell_type": "markdown",
   "metadata": {},
   "source": [
    "Ejercicio 1"
   ]
  },
  {
   "cell_type": "code",
   "execution_count": 21,
   "metadata": {},
   "outputs": [],
   "source": [
    "def combustible(tanque1, tanque2, tanque3):\n",
    "    print(f'El combustible en el Tanque 1 es: {tanque1} L')\n",
    "    print(f'El combustible en el Tanque 2 es: {tanque2} L')\n",
    "    print(f'El combustible en el Tanque 3 es: {tanque3} L')\n",
    "    prom = (tanque1 + tanque2 + tanque3) / 3 \n",
    "    print(f'El promedio de combustible es: {prom} L')"
   ]
  },
  {
   "cell_type": "code",
   "execution_count": 22,
   "metadata": {},
   "outputs": [
    {
     "name": "stdout",
     "output_type": "stream",
     "text": [
      "El combustible en el Tanque 1 es: 6 L\n",
      "El combustible en el Tanque 2 es: 0 L\n",
      "El combustible en el Tanque 3 es: 0 L\n",
      "El promedio de combustible es: 2.0 L\n"
     ]
    }
   ],
   "source": [
    "combustible(6,0,0)"
   ]
  },
  {
   "cell_type": "code",
   "execution_count": 23,
   "metadata": {},
   "outputs": [],
   "source": [
    "def promedio(valores):\n",
    "    valores = sum(valores)/len(valores)\n",
    "    print(f'El promedio de combustible es: {valores} L')"
   ]
  },
  {
   "cell_type": "code",
   "execution_count": 27,
   "metadata": {},
   "outputs": [],
   "source": [
    "def combustible(tanque1, tanque2, tanque3):\n",
    "    print(f'El combustible en el Tanque 1 es: {tanque1} L')\n",
    "    print(f'El combustible en el Tanque 2 es: {tanque2} L')\n",
    "    print(f'El combustible en el Tanque 3 es: {tanque3} L')\n",
    "    prom = promedio([tanque1, tanque2, tanque3])"
   ]
  },
  {
   "cell_type": "code",
   "execution_count": 28,
   "metadata": {},
   "outputs": [
    {
     "name": "stdout",
     "output_type": "stream",
     "text": [
      "El combustible en el Tanque 1 es: 6 L\n",
      "El combustible en el Tanque 2 es: 6 L\n",
      "El combustible en el Tanque 3 es: 0 L\n",
      "El promedio de combustible es: 4.0 L\n"
     ]
    }
   ],
   "source": [
    "combustible(6,6,0)"
   ]
  },
  {
   "cell_type": "markdown",
   "metadata": {},
   "source": [
    "Ejercicio 2"
   ]
  },
  {
   "cell_type": "code",
   "execution_count": 34,
   "metadata": {},
   "outputs": [],
   "source": [
    "# Funcion solo con argumentos V 1.0\n",
    "def informe_mision(prelanzamiento, t_vuelo, destino, tanque_e, tanque_i):\n",
    "    print(f'Destino de la misión: {destino}...')\n",
    "    t_total = prelanzamiento + t_vuelo\n",
    "    if t_total >= 60:\n",
    "        print(f'Tiempo para llegar al destino: {t_total/60} horas')\n",
    "    else:\n",
    "        print(f'Tiempo para llegar al destino: {t_total} minutos')\n",
    "    tanques = tanque_e + tanque_i\n",
    "    print(f'Combustible disponible: {tanques} litros')\n",
    "    \n"
   ]
  },
  {
   "cell_type": "code",
   "execution_count": 35,
   "metadata": {},
   "outputs": [
    {
     "name": "stdout",
     "output_type": "stream",
     "text": [
      "Destino de la misión: Marte...\n",
      "Tiempo para llegar al destino: 1.4166666666666667 horas\n",
      "Combustible disponible: 2500 litros\n"
     ]
    }
   ],
   "source": [
    "informe_mision(25,60,'Marte',1000,1500)"
   ]
  },
  {
   "cell_type": "code",
   "execution_count": 39,
   "metadata": {},
   "outputs": [],
   "source": [
    "# Función actualizada usando argumentos de variable y argumentos de palabra clave variable 1.1\n",
    "\n",
    "def informe_mision(destino, *minutos, **reservas_combustible):\n",
    "    print(f'Destino de la misión: {destino}')\n",
    "    t_total = sum(minutos)\n",
    "    if t_total >= 60:\n",
    "        print(f'Tiempo para llegar al destino: {sum(minutos)/60} horas')\n",
    "    else:\n",
    "        print(f'Tiempo para llegar al destino: {sum(minutos)} minutos')\n",
    "    print(f'Combustible disponible: {sum(reservas_combustible.values())}')"
   ]
  },
  {
   "cell_type": "code",
   "execution_count": 40,
   "metadata": {},
   "outputs": [
    {
     "name": "stdout",
     "output_type": "stream",
     "text": [
      "Destino de la misión: Saturno\n",
      "Tiempo para llegar al destino: 2.1666666666666665 horas\n",
      "Combustible disponible: 3500\n"
     ]
    }
   ],
   "source": [
    "informe_mision('Saturno', 20, 50, 50, 10, tanque_e = 2000, tanque_i = 1500)"
   ]
  },
  {
   "cell_type": "code",
   "execution_count": 41,
   "metadata": {},
   "outputs": [],
   "source": [
    "# Función actualizada usando argumentos de variable y argumentos de palabra clave variable 1.2\n",
    "def informe_mision(destino, *minutos, **reservas_combustible):\n",
    "    print(f'Destino de la misión: {destino}')\n",
    "    t_total = sum(minutos)\n",
    "    if t_total >= 60:\n",
    "        print(f'Tiempo para llegar al destino: {sum(minutos)/60} horas')\n",
    "    else:\n",
    "        print(f'Tiempo para llegar al destino: {sum(minutos)} minutos')\n",
    "    for tanques, litros in reservas_combustible.items():\n",
    "        print(f'{tanques} contiene: {litros} litros de combbustible')"
   ]
  },
  {
   "cell_type": "code",
   "execution_count": 42,
   "metadata": {},
   "outputs": [
    {
     "name": "stdout",
     "output_type": "stream",
     "text": [
      "Destino de la misión: Saturno\n",
      "Tiempo para llegar al destino: 2.1666666666666665 horas\n",
      "tanque_externo contiene: 2000 litros de combbustible\n",
      "tanque_interno contiene: 1500 litros de combbustible\n"
     ]
    }
   ],
   "source": [
    "informe_mision('Saturno', 20, 50, 50, 10, tanque_externo = 2000, tanque_interno = 1500)"
   ]
  }
 ],
 "metadata": {
  "interpreter": {
   "hash": "2ab799114a573e26ac55bd8fe674bb0700916023bc2a183b80bf42cc2045346a"
  },
  "kernelspec": {
   "display_name": "Python 3.10.2 64-bit",
   "language": "python",
   "name": "python3"
  },
  "language_info": {
   "codemirror_mode": {
    "name": "ipython",
    "version": 3
   },
   "file_extension": ".py",
   "mimetype": "text/x-python",
   "name": "python",
   "nbconvert_exporter": "python",
   "pygments_lexer": "ipython3",
   "version": "3.10.2"
  },
  "orig_nbformat": 4
 },
 "nbformat": 4,
 "nbformat_minor": 2
}
