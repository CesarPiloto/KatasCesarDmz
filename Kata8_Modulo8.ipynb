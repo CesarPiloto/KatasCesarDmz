{
 "cells": [
  {
   "cell_type": "markdown",
   "metadata": {},
   "source": [
    "## Kata 8 - Módulo 8"
   ]
  },
  {
   "cell_type": "markdown",
   "metadata": {},
   "source": [
    "Ejercicio 1"
   ]
  },
  {
   "cell_type": "code",
   "execution_count": 2,
   "metadata": {},
   "outputs": [],
   "source": [
    "# Creamos un diccionario para almacenar datos sobre un planeta\n",
    "planet = {\n",
    "    'name': 'Marte',\n",
    "    'moons': 2\n",
    "}"
   ]
  },
  {
   "cell_type": "code",
   "execution_count": 6,
   "metadata": {},
   "outputs": [
    {
     "name": "stdout",
     "output_type": "stream",
     "text": [
      "El nombre del planeta es:  Marte  y tiene 2  lunas\n"
     ]
    }
   ],
   "source": [
    "# Mostramos el nombre y número de lunas\n",
    "print('El nombre del planeta es: ',planet['name'],' y tiene', planet['moons'],' lunas')\n"
   ]
  },
  {
   "cell_type": "code",
   "execution_count": 7,
   "metadata": {},
   "outputs": [],
   "source": [
    "# Agregamos datos con un nuevo diccionario anidado al diccionario planet\n",
    "planet['circunferencia (km)'] = {\n",
    "    'polar': 6752,\n",
    "    'Equatorial': 6792\n",
    "}"
   ]
  },
  {
   "cell_type": "code",
   "execution_count": 9,
   "metadata": {},
   "outputs": [
    {
     "name": "stdout",
     "output_type": "stream",
     "text": [
      "Marte  tiene una circunferencia polar de:  6752\n"
     ]
    }
   ],
   "source": [
    "# Mostramos el nombre del planeta con su circunferencia polar\n",
    "print(planet['name'], ' tiene una circunferencia polar de: ', planet['circunferencia (km)']['polar'])"
   ]
  },
  {
   "cell_type": "markdown",
   "metadata": {},
   "source": [
    "Ejercicio 2"
   ]
  },
  {
   "cell_type": "code",
   "execution_count": 10,
   "metadata": {},
   "outputs": [],
   "source": [
    "planet_moons = {\n",
    "    'mercury': 0,\n",
    "    'venus': 0,\n",
    "    'earth': 1,\n",
    "    'mars': 2,\n",
    "    'jupiter': 79,\n",
    "    'saturn': 82,\n",
    "    'uranus': 27,\n",
    "    'neptune': 14,\n",
    "    'pluto': 5,\n",
    "    'haumea': 2,\n",
    "    'makemake': 1,\n",
    "    'eris': 1\n",
    "}"
   ]
  },
  {
   "cell_type": "code",
   "execution_count": 22,
   "metadata": {},
   "outputs": [
    {
     "name": "stdout",
     "output_type": "stream",
     "text": [
      "Hay un total de 214 lunas en todos los planetas del diccionario.\n",
      "Existe un total de 12 planetas en el diccionario.\n",
      "En promedio existen 17.833333333333332 lunas por planeta.\n"
     ]
    }
   ],
   "source": [
    "moons = 0\n",
    "for value in planet_moons.values():\n",
    "    moons = moons + value\n",
    "\n",
    "print(f'Hay un total de {moons} lunas en todos los planetas del diccionario.')\n",
    "total_moons = moons\n",
    "\n",
    "planets = len(planet_moons)\n",
    "print(f'Existe un total de {planets} planetas en el diccionario.')\n",
    "\n",
    "print(f'En promedio existen {total_moons/planets} lunas por planeta.')\n"
   ]
  }
 ],
 "metadata": {
  "interpreter": {
   "hash": "2ab799114a573e26ac55bd8fe674bb0700916023bc2a183b80bf42cc2045346a"
  },
  "kernelspec": {
   "display_name": "Python 3.10.2 64-bit",
   "language": "python",
   "name": "python3"
  },
  "language_info": {
   "codemirror_mode": {
    "name": "ipython",
    "version": 3
   },
   "file_extension": ".py",
   "mimetype": "text/x-python",
   "name": "python",
   "nbconvert_exporter": "python",
   "pygments_lexer": "ipython3",
   "version": "3.10.2"
  },
  "orig_nbformat": 4
 },
 "nbformat": 4,
 "nbformat_minor": 2
}
