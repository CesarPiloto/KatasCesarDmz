{
 "cells": [
  {
   "cell_type": "markdown",
   "metadata": {},
   "source": [
    "## Kata 3 - Módulo 3\n",
    "Uso de instrucciones \"if\" , \"else\" y \"elif\""
   ]
  },
  {
   "cell_type": "code",
   "execution_count": 1,
   "metadata": {},
   "outputs": [
    {
     "name": "stdout",
     "output_type": "stream",
     "text": [
      "¡ADVERTENCIA! **Asteroide acercandose demasiado rápido a la tierra.**\n",
      "Velocidad del asteroide: 49 km/s\n"
     ]
    }
   ],
   "source": [
    "\n",
    "velAst = 49\n",
    "if velAst > 25:\n",
    "    print(\"¡ADVERTENCIA! **Asteroide acercandose demasiado rápido a la tierra.**\")\n",
    "    print(\"Velocidad del asteroide: \" + str(velAst) + \" km/s\")\n",
    "else:\n",
    "    print(\"Asteroide lejos\")\n",
    "    print(\"Velocidad del asteroide: \" + str(velAst) + \" km/s\")"
   ]
  },
  {
   "cell_type": "code",
   "execution_count": 2,
   "metadata": {},
   "outputs": [
    {
     "name": "stdout",
     "output_type": "stream",
     "text": [
      "Asteroide a 19 km/s y demasiado lento para producir rayo de luz\n"
     ]
    }
   ],
   "source": [
    "velAst = 19\n",
    "if velAst > 20:\n",
    "    print(\"¡ASTEROIDE A MÁS DE \" + str(velAst) + \" km/s EN EL CIELO! - Probabilidad de rayo de luz - ¡A buscar!\")\n",
    "elif velAst == 20:\n",
    "        print(\"¡ASTEROIDE A 20 km/s EN EL CIELO! - Probabilidad de rayo de luz - ¡A buscar!\")\n",
    "else:\n",
    "    print(\"Asteroide a \" + str(velAst) +\" km/s y demasiado lento para producir rayo de luz\")"
   ]
  },
  {
   "cell_type": "markdown",
   "metadata": {},
   "source": [
    "Uso de operadores \"and\" y \"or\""
   ]
  },
  {
   "cell_type": "code",
   "execution_count": 15,
   "metadata": {},
   "outputs": [
    {
     "name": "stdout",
     "output_type": "stream",
     "text": [
      "ASTEROIDE ACERCANDOSE MUY RÁPIDO, PROBABILIDAD DE LUZ EN LA ATMÓSFERA Y\n",
      "TAMBIÉN MUY COLOSAL QUE CAUSARÁ GRANDES DAÑOS.\n"
     ]
    }
   ],
   "source": [
    "velAst = 55\n",
    "dimAst = 100\n",
    "\n",
    "if velAst > 25:\n",
    "    print(\"ASTEROIDE ACERCANDOSE MUY RÁPIDO, PROBABILIDAD DE LUZ EN LA ATMÓSFERA Y\")\n",
    "    if dimAst > 25 and dimAst < 1000:\n",
    "        print(\"TAMBIÉN MUY COLOSAL QUE CAUSARÁ GRANDES DAÑOS.\")\n",
    "    elif dimAst >=1000:\n",
    "        print(\"RIESGO DE EXTINCIÓN...\")\n",
    "    else:\n",
    "        print(\"SE DESINTEGRARÁ EN LA ATMOSFERA.\")\n",
    "else:\n",
    "    print(\"No hay nada interesante que ver por hoy.\")"
   ]
  }
 ],
 "metadata": {
  "interpreter": {
   "hash": "2ab799114a573e26ac55bd8fe674bb0700916023bc2a183b80bf42cc2045346a"
  },
  "kernelspec": {
   "display_name": "Python 3.10.2 64-bit",
   "language": "python",
   "name": "python3"
  },
  "language_info": {
   "codemirror_mode": {
    "name": "ipython",
    "version": 3
   },
   "file_extension": ".py",
   "mimetype": "text/x-python",
   "name": "python",
   "nbconvert_exporter": "python",
   "pygments_lexer": "ipython3",
   "version": "3.10.2"
  },
  "orig_nbformat": 4
 },
 "nbformat": 4,
 "nbformat_minor": 2
}
