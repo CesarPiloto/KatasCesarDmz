{
 "cells": [
  {
   "cell_type": "markdown",
   "metadata": {},
   "source": [
    "## Kata 5 - Módulo 5\n",
    "Ejercicio 1 - Utilizar operadores matemáticos"
   ]
  },
  {
   "cell_type": "code",
   "execution_count": 1,
   "metadata": {},
   "outputs": [],
   "source": [
    "# Distancias de planetas al sol\n",
    "\n",
    "tierra_sol = 149597870\n",
    "jupiter_sol = 778547200"
   ]
  },
  {
   "cell_type": "code",
   "execution_count": 3,
   "metadata": {},
   "outputs": [
    {
     "name": "stdout",
     "output_type": "stream",
     "text": [
      "Distancia entre los planetas (km): 628949330\n",
      "Distancia entre los planetas (mi): 390577534\n"
     ]
    }
   ],
   "source": [
    "# Calculamos la distancia entre los planetas\n",
    "\n",
    "dist_planetas = jupiter_sol - tierra_sol\n",
    "print(\"Distancia entre los planetas (km): \" + str(dist_planetas))\n",
    "print(\"Distancia entre los planetas (mi): \" + str(round(dist_planetas*0.621)))\n",
    "\n",
    "\n"
   ]
  },
  {
   "cell_type": "markdown",
   "metadata": {},
   "source": [
    "Ejercicio 2 - Convertir cadenas a números y valores absolutos"
   ]
  },
  {
   "cell_type": "code",
   "execution_count": 6,
   "metadata": {},
   "outputs": [
    {
     "name": "stdout",
     "output_type": "stream",
     "text": [
      "La distancia entre los planetas es [km]: 628949330\n",
      "La distancia entre los planetas es [mi]: 390577533.93\n"
     ]
    }
   ],
   "source": [
    "# Calculamos la distancia entre dos planetas\n",
    "planeta1 = input(\"Introduce la distancia 1: \")\n",
    "planeta2 = input(\"Introduce la distancia 2: \")\n",
    "planeta1 = int(planeta1)\n",
    "planeta2 = int(planeta2)\n",
    "dist = planeta1 - planeta2\n",
    "print(\"La distancia entre los planetas es [km]: \" + str(abs(dist)))\n",
    "print(\"La distancia entre los planetas es [mi]: \" + str(abs(dist*0.621)))"
   ]
  }
 ],
 "metadata": {
  "interpreter": {
   "hash": "2ab799114a573e26ac55bd8fe674bb0700916023bc2a183b80bf42cc2045346a"
  },
  "kernelspec": {
   "display_name": "Python 3.10.2 64-bit",
   "language": "python",
   "name": "python3"
  },
  "language_info": {
   "codemirror_mode": {
    "name": "ipython",
    "version": 3
   },
   "file_extension": ".py",
   "mimetype": "text/x-python",
   "name": "python",
   "nbconvert_exporter": "python",
   "pygments_lexer": "ipython3",
   "version": "3.10.2"
  },
  "orig_nbformat": 4
 },
 "nbformat": 4,
 "nbformat_minor": 2
}
