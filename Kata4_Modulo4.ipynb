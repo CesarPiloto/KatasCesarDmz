{
 "cells": [
  {
   "cell_type": "markdown",
   "metadata": {},
   "source": [
    "## Kata 4 Módulo 4"
   ]
  },
  {
   "cell_type": "markdown",
   "metadata": {},
   "source": [
    "Ejercicio 1: Transformar cadenas"
   ]
  },
  {
   "cell_type": "code",
   "execution_count": 2,
   "metadata": {},
   "outputs": [],
   "source": [
    "text = \"\"\"Interesting facts about the Moon. The Moon is Earth's only satellite. There are several interesting facts about the Moon and how it affects life here on Earth. \n",
    "On average, the Moon moves 4cm away from the Earth every year. This yearly drift is not significant enough to cause immediate effects on Earth. The highest daylight temperature of the Moon is 127 C.\"\"\""
   ]
  },
  {
   "cell_type": "code",
   "execution_count": 3,
   "metadata": {},
   "outputs": [
    {
     "data": {
      "text/plain": [
       "['Interesting facts about the Moon',\n",
       " \"The Moon is Earth's only satellite\",\n",
       " 'There are several interesting facts about the Moon and how it affects life here on Earth',\n",
       " '\\nOn average, the Moon moves 4cm away from the Earth every year',\n",
       " 'This yearly drift is not significant enough to cause immediate effects on Earth',\n",
       " 'The highest daylight temperature of the Moon is 127 C.']"
      ]
     },
     "execution_count": 3,
     "metadata": {},
     "output_type": "execute_result"
    }
   ],
   "source": [
    "#Dividimos el texto para separarlo por oraciones, usamos la función split y la\n",
    "#condicional que tiene cada oración que es el punto y espacio.\n",
    "division = text.split(\". \")\n",
    "division"
   ]
  },
  {
   "cell_type": "code",
   "execution_count": 4,
   "metadata": {},
   "outputs": [
    {
     "name": "stdout",
     "output_type": "stream",
     "text": [
      "\n",
      "On average, the Moon moves 4cm away from the Earth every year\n",
      "The highest daylight temperature of the Moon is 127 C.\n"
     ]
    }
   ],
   "source": [
    "# Creamos lista de las palabras clave\n",
    "pal_clave = [\"average\", \"temperature\", \"distance\"]\n",
    "\n",
    "# Buscamos palabras clave dentro de las oraciones.\n",
    "for cada_renglon in division:\n",
    "    for cada_palabra in pal_clave:\n",
    "        if cada_palabra in cada_renglon:\n",
    "            print(cada_renglon)"
   ]
  },
  {
   "cell_type": "code",
   "execution_count": 6,
   "metadata": {},
   "outputs": [
    {
     "name": "stdout",
     "output_type": "stream",
     "text": [
      "\n",
      "On average, the Moon moves 4cm away from the Earth every year\n",
      "The highest daylight temperature of the Moon is 127 Celsius.\n"
     ]
    }
   ],
   "source": [
    "# Usaremos el código anterior para cambiar la letra C por la palabra Celsius\n",
    "for cada_renglon in division:\n",
    "    for cada_palabra in pal_clave:\n",
    "        if cada_palabra in cada_renglon:\n",
    "            print(cada_renglon.replace('C','Celsius'))"
   ]
  },
  {
   "cell_type": "markdown",
   "metadata": {},
   "source": [
    "Ejercicio 2: Formateando cadenas"
   ]
  },
  {
   "cell_type": "code",
   "execution_count": 17,
   "metadata": {},
   "outputs": [
    {
     "name": "stdout",
     "output_type": "stream",
     "text": [
      "Las Maravillas De La Tierra Y La Luna En El Cosmos\n",
      "\n"
     ]
    }
   ],
   "source": [
    "# Datos para trabajar\n",
    "name = \"Luna\"\n",
    "gravity = 0.00162 #in km/s\n",
    "planet = \"Tierra\"\n",
    "\n",
    "# Creamos un título\n",
    "titulo = f\"Las Maravillas de la {planet} y la {name} en el cosmos\\n\".title()\n",
    "print(titulo)"
   ]
  },
  {
   "cell_type": "code",
   "execution_count": 18,
   "metadata": {},
   "outputs": [],
   "source": [
    "# Creamos una plantilla llamada multilinea\n",
    "espaciador = \"------------------------------------------------------------\\n\"\n",
    "multilinea = \"Nombre del Planeta: \" + planet + \"\\n\" + \"Gravedad en la Luna: \" + str(gravity*1000) + \" m/s2.\""
   ]
  },
  {
   "cell_type": "code",
   "execution_count": 19,
   "metadata": {},
   "outputs": [
    {
     "name": "stdout",
     "output_type": "stream",
     "text": [
      "Las Maravillas De La Tierra Y La Luna En El Cosmos\n",
      "------------------------------------------------------------\n",
      "Nombre del Planeta: Tierra\n",
      "Gravedad en la Luna: 1.6199999999999999 m/s2.\n"
     ]
    }
   ],
   "source": [
    "# Unimos el titulo y la multilinea\n",
    "plantilla = f\"{titulo}{espaciador}{multilinea}\"\n",
    "print(plantilla)"
   ]
  },
  {
   "cell_type": "code",
   "execution_count": 29,
   "metadata": {},
   "outputs": [
    {
     "name": "stdout",
     "output_type": "stream",
     "text": [
      "Las Maravillas De La Tierra Y La Luna En El Cosmos\n",
      "------------------------------------------------------------\n",
      "Nombre del Planeta: Tierra\n",
      "Gravedad en la Luna: 1.6199999999999999 m/s2.\n"
     ]
    }
   ],
   "source": [
    "# Agregamos más datos muestra\n",
    "\n",
    "planet = \"Marte\"\n",
    "gravity = 0.00143\n",
    "name = \"Ganímedes\"\n",
    "print(plantilla)"
   ]
  },
  {
   "cell_type": "code",
   "execution_count": 32,
   "metadata": {},
   "outputs": [
    {
     "name": "stdout",
     "output_type": "stream",
     "text": [
      "Las Maravillas De La Marte Y La Ganímedes En El Cosmos\n",
      "\n",
      "Nombre del Planeta:  Marte\n",
      "Gravedad en Ganímedes:1.4300000000000002 m/s2.\n"
     ]
    }
   ],
   "source": [
    "# Creamos una nueva Plantilla \n",
    "titulo = f\"Las Maravillas de la {planet} y la {name} en el cosmos\\n\".title()\n",
    "print(titulo)\n",
    "multilinea2 = \"Nombre del Planeta:  {planet}\" + \"\\n\" + \"Gravedad en {name}:\" + \"{gravity}\" + \" m/s2.\"\n",
    "print(multilinea2.format(planet=planet, gravity=gravity*1000, name=name))"
   ]
  },
  {
   "cell_type": "code",
   "execution_count": 34,
   "metadata": {},
   "outputs": [
    {
     "name": "stdout",
     "output_type": "stream",
     "text": [
      "Las Maravillas De La Marte Y La Ganímedes En El Cosmos\n",
      "------------------------------------------------------------\n",
      "Nombre del Planeta:  Marte\n",
      "Gravedad en Ganímedes:1.4300000000000002 m/s2.\n"
     ]
    }
   ],
   "source": [
    "plantilla2 = f\"{titulo}{espaciador}{multilinea2.format(planet=planet, gravity=gravity*1000, name=name)}\"\n",
    "print(plantilla2)"
   ]
  }
 ],
 "metadata": {
  "interpreter": {
   "hash": "2ab799114a573e26ac55bd8fe674bb0700916023bc2a183b80bf42cc2045346a"
  },
  "kernelspec": {
   "display_name": "Python 3.10.2 64-bit",
   "language": "python",
   "name": "python3"
  },
  "language_info": {
   "codemirror_mode": {
    "name": "ipython",
    "version": 3
   },
   "file_extension": ".py",
   "mimetype": "text/x-python",
   "name": "python",
   "nbconvert_exporter": "python",
   "pygments_lexer": "ipython3",
   "version": "3.10.2"
  },
  "orig_nbformat": 4
 },
 "nbformat": 4,
 "nbformat_minor": 2
}
